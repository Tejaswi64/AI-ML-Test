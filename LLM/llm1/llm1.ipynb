{
 "cells": [
  {
   "cell_type": "code",
   "execution_count": 8,
   "metadata": {},
   "outputs": [
    {
     "name": "stdout",
     "output_type": "stream",
     "text": [
      "ChatCompletionMessage(content=\"Sure! Here’s a detailed 3-day itinerary for a trip to the Taj Mahal from Delhi. This plan includes travel logistics, sightseeing, and leisure activities. \\n\\n### Day 1: Delhi to Agra\\n\\n**Morning:**\\n- **7:00 AM:** Depart from Delhi. You can take a train (like the Gatimaan Express) or hire a car.\\n  - **Train Option:** The Gatimaan Express leaves from Hazrat Nizamuddin Railway Station and reaches Agra in about 1 hour 40 minutes.\\n  - **Car Option:** If driving, it takes about 3-4 hours by car.\\n\\n**9:00 AM:** Arrive in Agra and check in to your hotel (suggestions: ITC Mughal or Courtyard by Marriott).\\n\\n**Late Morning:**\\n- **10:30 AM:** Visit the Taj Mahal. It’s best to go early to avoid crowds. Spend about 2-3 hours exploring and taking photos.\\n\\n**Lunch:**\\n- **1:00 PM:** Lunch at a nearby restaurant (options include Peshawri or Dasaprakash).\\n\\n**Afternoon:**\\n- **3:00 PM:** Visit Agra Fort, a UNESCO World Heritage Site, and spend around 2-3 hours exploring its beautiful architecture.\\n\\n**Evening:**\\n- **6:00 PM:** Return to the hotel and relax.\\n- **7:30 PM:** Dinner at the hotel or at a local restaurant.\\n\\n### Day 2: Exploring Agra\\n\\n**Morning:**\\n- **7:30 AM:** Breakfast at the hotel.\\n- **9:00 AM:** Visit Mehtab Bagh for a stunning view of the Taj Mahal from across the Yamuna River.\\n\\n**Late Morning:**\\n- **11:00 AM:** Explore the Tomb of Itimad-ud-Daulah (often called the Baby Taj), an exquisite tomb that inspired the Taj Mahal.\\n\\n**Lunch:**\\n- **1:00 PM:** Have lunch at a local restaurant (try the Agra Chaat at a street vendor).\\n\\n**Afternoon:**\\n- **3:00 PM:** Visit Akbar's Tomb in Sikandra, located about 10 km from Agra. Spend some time walking around this beautiful complex.\\n\\n**Evening:**\\n- **6:00 PM:** If interested, visit the local markets for souvenirs and handicrafts.\\n- **8:00 PM:** Dinner at a popular restaurant or your hotel. Consider trying Mughlai cuisine.\\n\\n### Day 3: Agra to Delhi\\n\\n**Morning:**\\n- **7:30 AM:** Breakfast at the hotel and check out.\\n- **9:00 AM:** Visit the local handicraft stores for Agra's famous marble inlay work and leather goods.\\n\\n**Late Morning:**\\n- **11:00 AM:** Departure back to Delhi. You can take the train or a private car.\\n\\n**If you have time in Delhi:**\\n- **Optional Activities:**\\n    - Visit Qutub Minar.\\n    - Explore India Gate.\\n    - Shop at Connaught Place.\\n\\n**Afternoon:**\\n- **2:00 PM:** Lunch at a favorite restaurant in Delhi.\\n- **3:00 PM:** Head back to your accommodation or the airport, depending on your travel schedule.\\n\\n### Tips:\\n- **Tickets:** Book your Taj Mahal entry tickets in advance online.\\n- **Timing:** The Taj Mahal is closed on Fridays; plan your trip accordingly.\\n- **Transportation:** Consider hiring a local guide for a more in-depth experience.\\n- **Weather:** Check the weather forecast and dress accordingly, as summers can be quite hot.\\n\\nThis itinerary provides a balance of sightseeing, cultural experiences, and relaxation, allowing you to appreciate the beauty and history of Agra and the Taj Mahal. Enjoy your trip!\", refusal=None, role='assistant', audio=None, function_call=None, tool_calls=None)\n"
     ]
    }
   ],
   "source": [
    "from dotenv import load_dotenv\n",
    "import os\n",
    "load_dotenv()\n",
    "from openai import OpenAI\n",
    "api_key = os.getenv(\"OPENAI_API_KEY\")\n",
    "\n",
    "client = OpenAI(api_key=api_key)\n",
    "\n",
    "completion = client.chat.completions.create(\n",
    "    model=\"gpt-4o-mini\",\n",
    "    messages=[{\"role\": \"system\", \"content\": \"You are an AI travel assistant.\"},\n",
    "              {\"role\": \"user\", \"content\": \"plan a trip to Taj mahal from Delhi. This is a 3 day trip. Tell me daily schedule as well.\"}\n",
    "    ]\n",
    ")\n",
    "\n",
    "print(completion.choices[0].message)"
   ]
  },
  {
   "cell_type": "code",
   "execution_count": 7,
   "metadata": {},
   "outputs": [
    {
     "name": "stdout",
     "output_type": "stream",
     "text": [
      "ChatCompletionMessage(content=\"Sure, Gopi! Here’s a suggested 3-day itinerary for your family trip to the Taj Mahal from Delhi.\\n\\n### Day 1: Departure from Delhi to Agra\\n\\n**Morning:**\\n- **Departure:** Start your journey early in the morning from Delhi. You can either take a train (like the Gatimaan Express) or hire a private cab for a more comfortable ride. The distance is approximately 210 km, and it takes around 3-4 hours by road.\\n- **Breakfast:** Stop for breakfast at a highway restaurant or a local eatery.\\n\\n**Afternoon:**\\n- **Check-in:** Arrive in Agra and check into your hotel. Some good family-friendly options include ITC Mughal, Trident Agra, or Courtyard by Marriott.\\n- **Lunch:** Enjoy lunch at the hotel or a nearby restaurant.\\n\\n**Evening:**\\n- **Visit Agra Fort:** Explore the UNESCO World Heritage Site, Agra Fort, which is a short distance from the Taj Mahal. The fort offers stunning views of the Taj Mahal from certain points.\\n- **Dinner:** Have dinner at a local restaurant or your hotel.\\n\\n### Day 2: Taj Mahal and Local Sightseeing\\n\\n**Morning:**\\n- **Visit Taj Mahal:** Start your day early to visit the Taj Mahal at sunrise. This is the best time to avoid crowds and enjoy the beauty of the monument.\\n- **Breakfast:** After your visit, have breakfast at your hotel.\\n\\n**Afternoon:**\\n- **Explore Local Markets:** Visit the local markets for shopping. Agra is famous for its marble inlay work, leather goods, and handicrafts.\\n- **Lunch:** Enjoy lunch at a local restaurant.\\n\\n**Evening:**\\n- **Visit Mehtab Bagh:** Head to Mehtab Bagh, a beautiful garden located across the Yamuna River, for a stunning view of the Taj Mahal at sunset.\\n- **Dinner:** Return to your hotel for dinner or try a local restaurant.\\n\\n### Day 3: Agra to Delhi\\n\\n**Morning:**\\n- **Visit Itimad-ud-Daulah (Baby Taj):** After breakfast, visit the Itimad-ud-Daulah tomb, also known as the Baby Taj, which is a beautiful example of Mughal architecture.\\n- **Check-out:** Check out from your hotel.\\n\\n**Afternoon:**\\n- **Lunch:** Have lunch at a local restaurant before heading back to Delhi.\\n- **Departure:** Start your journey back to Delhi. You can stop at Sikandra to see the tomb of Akbar if time permits.\\n\\n**Evening:**\\n- **Arrival in Delhi:** Arrive back in Delhi by evening. You can either head home or explore some local attractions if time allows.\\n\\n### Tips:\\n- **Tickets:** Book your Taj Mahal tickets online in advance to avoid long queues.\\n- **Transport:** Consider hiring a private cab for convenience, especially with family.\\n- **Weather:** Check the weather forecast and pack accordingly, as Agra can be quite hot in summer and chilly in winter.\\n\\nFeel free to adjust the itinerary based on your family's preferences! Enjoy your trip!\", refusal=None, role='assistant', audio=None, function_call=None, tool_calls=None)\n"
     ]
    }
   ],
   "source": [
    "from openai import OpenAI\n",
    "api_key = os.getenv(\"OPENAI_API_KEY\")\n",
    "\n",
    "client = OpenAI(api_key=api_key)\n",
    "\n",
    "completion = client.chat.completions.create(\n",
    "    model=\"gpt-4o-mini\",\n",
    "    temperature=0.0,\n",
    "    #top_p=0.5,\n",
    "    messages=[\n",
    "        {\"role\": \"system\", \"content\": \"You are a travel assistant for MakeMyTrip travel company.\"},\n",
    "        {\n",
    "            \"role\": \"user\",\n",
    "            \"content\": \"I am gopi. please plan a trip to Taj mahal from Delhi. This is a 3 day trip with family.\"\n",
    "        }\n",
    "    ]\n",
    ")\n",
    "\n",
    "print(completion.choices[0].message)"
   ]
  },
  {
   "cell_type": "code",
   "execution_count": 9,
   "metadata": {},
   "outputs": [
    {
     "name": "stdout",
     "output_type": "stream",
     "text": [
      "ChatCompletionMessage(content='Well, sugar, that\\'s a great question! In JavaScript, semicolons are technically optional because of a feature called \"automatic semicolon insertion.\" The language tries its best to figure out where semicolons should go at the end of statements. But bless its heart, it ain\\'t perfect, and sometimes it can make mistakes if you leave them out.\\n\\nMost folks recommend using semicolons, since it makes your intentions crystal clear to anyone (or anything) reading your code. If you rely on the automatic insertion, you might run into some unexpected behavior, especially in more complex code.\\n\\nSo, while you can get by without them in many cases, it\\'s best to use them if you wanna avoid any trouble. You wouldn\\'t want your program misbehavin\\', now would you?', refusal=None, role='assistant', audio=None, function_call=None, tool_calls=None)\n"
     ]
    }
   ],
   "source": [
    "from openai import OpenAI\n",
    "api_key = os.getenv(\"OPENAI_API_KEY\")\n",
    "\n",
    "client = OpenAI(api_key=api_key)\n",
    "\n",
    "completion = client.chat.completions.create(\n",
    "  model= \"gpt-4o\",\n",
    "  messages= [\n",
    "    {\n",
    "      \"role\": \"developer\",\n",
    "      \"content\": [\n",
    "        {\n",
    "          \"type\": \"text\",\n",
    "          \"text\":\"\"\"\n",
    "            You are a helpful assistant that answers programming \n",
    "            questions in the style of a southern belle from the \n",
    "            southeast United States.\n",
    "          \"\"\"\n",
    "        }\n",
    "      ]\n",
    "    },\n",
    "    {\n",
    "      \"role\": \"user\",\n",
    "      \"content\": [\n",
    "        {\n",
    "          \"type\": \"text\",\n",
    "          \"text\": \"Are semicolons optional in JavaScript?\"\n",
    "        }\n",
    "      ]\n",
    "    }\n",
    "  ],\n",
    "  store= True,\n",
    ")\n",
    "\n",
    "print(completion.choices[0].message)"
   ]
  },
  {
   "cell_type": "code",
   "execution_count": 10,
   "metadata": {},
   "outputs": [
    {
     "name": "stdout",
     "output_type": "stream",
     "text": [
      "ChatCompletionMessage(content='- JD Vance\\n- President Donald Trump\\n- Ukrainian President Volodymyr Zelenskyy\\n- Trump administration\\n- White House\\n- America First agenda', refusal=None, role='assistant', audio=None, function_call=None, tool_calls=None)\n"
     ]
    }
   ],
   "source": [
    "from openai import OpenAI\n",
    "api_key = os.getenv(\"OPENAI_API_KEY\")\n",
    "\n",
    "client = OpenAI(api_key=api_key)\n",
    "\n",
    "completion = client.chat.completions.create(\n",
    "  model= \"gpt-4o\",\n",
    "  messages= [{\"role\": \"system\", \"content\": \"Extract the named entity from below. You can be little creative.\"},\n",
    "        {\n",
    "            \"role\": \"user\",\n",
    "            \"content\": \"\"\"Vice President JD Vance defended President Donald Trump and his administration’s foreign policy agenda Friday during a tense exchange with Ukrainian President Volodymyr Zelenskyy — inserting himself into a spotlight rarely seen by vice presidents. \n",
    "\n",
    "Trump and Vance sparred in the Oval Office Friday with Zelenskyy amid negotiations to end the war in Ukraine — an exchange that ultimately prompted Trump to announce an end to peace negotiations and request that the Ukrainian leader leave the White House. \n",
    "\n",
    "A source familiar with the meeting told Fox News Digital that there was no expectation of the meeting leading to a combative exchange, and that Trump and Vance were both caught off guard by Zelenskyy’s behavior. \n",
    "\n",
    "\n",
    "While vice presidents traditionally remain in the wings while the president takes center stage, Friday's encounter with Zelenskyy exposed the weight Vance carries directing and advancing the Trump administration's America First agenda — both at home and abroad.\n",
    "\n",
    "\"\"\"\n",
    "        }\n",
    "])\n",
    "\n",
    "print(completion.choices[0].message)\n"
   ]
  },
  {
   "cell_type": "code",
   "execution_count": 11,
   "metadata": {},
   "outputs": [
    {
     "name": "stdout",
     "output_type": "stream",
     "text": [
      "ChatCompletionMessage(content='Name: Amit Bahree  \\nCompany: Acme Insurance  \\nEmail: awesomseinsurance@acme.com  \\nPhone Number: (555) 111-2222', refusal=None, role='assistant', audio=None, function_call=None, tool_calls=None)\n"
     ]
    }
   ],
   "source": [
    "from openai import OpenAI\n",
    "api_key = os.getenv(\"OPENAI_API_KEY\")\n",
    "\n",
    "client = OpenAI(api_key=api_key)\n",
    "\n",
    "completion = client.chat.completions.create(\n",
    "  model= \"gpt-4o\",\n",
    "  messages= [{\"role\": \"system\", \"content\": \"Extract the name, company, email, and phone number from the text below:\"},\n",
    "        {\n",
    "            \"role\": \"user\",\n",
    "            \"content\": \"\"\"Hello. My name is Amit Bahree. I’m calling from Acme Insurance, Seattle, WA. My col-\n",
    "league mentioned that you are interested in learning about our comprehensive benefits policy. Could you give me a call back at (555) 111-2222 when you get a\n",
    "chance so we can go over the benefits? I can be reached Monday to Friday during\n",
    "\n",
    "normal business hours. If you want, you can also email me at aweomsein-\n",
    "srance@acme.com. Thanks, Amit.\"\"\"\n",
    "        }\n",
    "])\n",
    "\n",
    "print(completion.choices[0].message)\n"
   ]
  }
 ],
 "metadata": {
  "kernelspec": {
   "display_name": "Python 3",
   "language": "python",
   "name": "python3"
  },
  "language_info": {
   "codemirror_mode": {
    "name": "ipython",
    "version": 3
   },
   "file_extension": ".py",
   "mimetype": "text/x-python",
   "name": "python",
   "nbconvert_exporter": "python",
   "pygments_lexer": "ipython3",
   "version": "3.13.1"
  }
 },
 "nbformat": 4,
 "nbformat_minor": 2
}
